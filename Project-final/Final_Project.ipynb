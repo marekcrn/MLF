{
  "cells": [
    {
      "cell_type": "markdown",
      "metadata": {
        "id": "view-in-github",
        "colab_type": "text"
      },
      "source": [
        "<a href=\"https://colab.research.google.com/github/marekcrn/MLF/blob/main/Project-final/Final_Project.ipynb\" target=\"_parent\"><img src=\"https://colab.research.google.com/assets/colab-badge.svg\" alt=\"Open In Colab\"/></a>"
      ]
    },
    {
      "cell_type": "markdown",
      "metadata": {
        "id": "JCmPBMycJ3eN"
      },
      "source": []
    },
    {
      "cell_type": "code",
      "source": [
        "from tensorflow import keras\n",
        "from keras.models import Sequential\n",
        "from keras.datasets import mnist\n",
        "import numpy as np\n",
        "import pandas as pd\n",
        "import matplotlib\n",
        "import matplotlib.pyplot as plt\n",
        "from sklearn.metrics import multilabel_confusion_matrix\n",
        "from sklearn.metrics import confusion_matrix, ConfusionMatrixDisplay, f1_score\n",
        "from sklearn.model_selection import train_test_split\n",
        "\n",
        "###################################\n",
        "# Write your own code here #\n",
        "\n",
        "from keras.layers import Dense, Flatten, Dropout, Conv2D, MaxPooling2D\n",
        "from keras.optimizers import SGD, Adagrad, Adam, AdamW\n",
        "from keras.datasets import cifar10\n",
        "from keras.utils import to_categorical\n",
        "import cv2\n",
        "import os\n",
        "from PIL import Image\n",
        "###################################\n",
        "font = {'weight' : 'bold',\n",
        "        'size'   : 12}\n",
        "\n",
        "matplotlib.rc('font', **font)"
      ],
      "metadata": {
        "id": "F_bltItkdPut"
      },
      "execution_count": 8,
      "outputs": []
    },
    {
      "cell_type": "markdown",
      "metadata": {
        "id": "W64tGwFUJ4Ng"
      },
      "source": []
    },
    {
      "cell_type": "code",
      "execution_count": 2,
      "metadata": {
        "colab": {
          "base_uri": "https://localhost:8080/"
        },
        "id": "ji8XMDepNHE4",
        "outputId": "43b2d40e-3a0f-4ddc-a8c2-ab8100d9caf2"
      },
      "outputs": [
        {
          "output_type": "stream",
          "name": "stdout",
          "text": [
            "Mounted at /content/drive\n"
          ]
        }
      ],
      "source": [
        "from google.colab import drive\n",
        "drive.mount('/content/drive')"
      ]
    },
    {
      "cell_type": "markdown",
      "metadata": {
        "id": "FNT-ReQgJ5BQ"
      },
      "source": []
    },
    {
      "cell_type": "code",
      "execution_count": 3,
      "metadata": {
        "id": "dA0KVjpeppmI"
      },
      "outputs": [],
      "source": [
        "def load_images_from_folder(folder, n_img: int):\n",
        "    images = []\n",
        "    for i in range(n_img+1):\n",
        "        img_path = os.path.join(folder, f\"img_{i}.png\")\n",
        "        if os.path.isfile(img_path):\n",
        "            img = cv2.imread(img_path)\n",
        "            if img is not None:\n",
        "                images.append(img)\n",
        "    return images"
      ]
    },
    {
      "cell_type": "code",
      "execution_count": 4,
      "metadata": {
        "id": "-gz5JEC4lVU-"
      },
      "outputs": [],
      "source": [
        "def display_random_images(x_data: np.array, y_data: np.array, count: int = 10) -> None:\n",
        "  index = np.array(len(x_data))\n",
        "  selected_ind = np.random.choice(index, count)\n",
        "\n",
        "  selected_img = x_data[selected_ind]\n",
        "  selected_labels = y_data[selected_ind]\n",
        "  concat_img = np.concatenate(selected_img, axis=1)\n",
        "\n",
        "  plt.figure(figsize=(20,10))\n",
        "  plt.imshow(concat_img, cmap=\"gray\")\n",
        "\n",
        "  for id_label, label in enumerate(selected_labels):\n",
        "    plt.text(20 + 51*id_label, 55, label)\n",
        "  plt.axis('off')\n",
        "  plt.show()"
      ]
    },
    {
      "cell_type": "code",
      "execution_count": 5,
      "metadata": {
        "id": "B20wCKzMXZ4l"
      },
      "outputs": [],
      "source": [
        "def separate_rgb_from_images(images_array):\n",
        "    # Separate RGB colors from array of images\n",
        "    red_channel = images_array[:, :, :, 0]  # Extract Red channel\n",
        "    green_channel = images_array[:, :, :, 1]  # Extract Green channel\n",
        "    blue_channel = images_array[:, :, :, 2]  # Extract Blue channel\n",
        "\n",
        "    return red_channel, green_channel, blue_channel"
      ]
    },
    {
      "cell_type": "markdown",
      "metadata": {
        "id": "_mcIiVLaJ564"
      },
      "source": []
    },
    {
      "cell_type": "code",
      "execution_count": null,
      "metadata": {
        "id": "QRrLIJRPXEMP"
      },
      "outputs": [],
      "source": [
        "num_images = 16182\n",
        "X_train =load_images_from_folder(\"/content/drive/MyDrive/Final Project/train_data_unlabeled\",num_images)"
      ]
    },
    {
      "cell_type": "markdown",
      "metadata": {
        "id": "R1i5IsOFJ6Zh"
      },
      "source": []
    },
    {
      "cell_type": "code",
      "execution_count": null,
      "metadata": {
        "id": "xrXbd25yn_8I"
      },
      "outputs": [],
      "source": [
        "num_images = 4796\n",
        "X_test =load_images_from_folder(\"/content/drive/MyDrive/Final Project/test_data_unlabeled\",num_images)"
      ]
    },
    {
      "cell_type": "markdown",
      "metadata": {
        "id": "I1X8TflnJ8Rn"
      },
      "source": []
    },
    {
      "cell_type": "code",
      "execution_count": null,
      "metadata": {
        "id": "EMJn7QHWfkDy"
      },
      "outputs": [],
      "source": [
        "np.save('/content/drive/MyDrive/Final Project/X_test_data.npy', X_test)\n",
        "np.save('/content/drive/MyDrive/Final Project/X_train_data.npy', X_train)"
      ]
    },
    {
      "cell_type": "markdown",
      "metadata": {
        "id": "1-WVgHoQJ84O"
      },
      "source": []
    },
    {
      "cell_type": "code",
      "execution_count": 18,
      "metadata": {
        "colab": {
          "base_uri": "https://localhost:8080/"
        },
        "id": "ogzoBJoxiyK7",
        "outputId": "09365ac9-858a-435a-ad5a-f20530f58a5d"
      },
      "outputs": [
        {
          "output_type": "execute_result",
          "data": {
            "text/plain": [
              "0        0\n",
              "1        1\n",
              "2        0\n",
              "3        2\n",
              "4        2\n",
              "        ..\n",
              "16177    1\n",
              "16178    3\n",
              "16179    2\n",
              "16180    0\n",
              "16181    1\n",
              "Name: target, Length: 16182, dtype: int64"
            ]
          },
          "metadata": {},
          "execution_count": 18
        }
      ],
      "source": [
        "X_train = np.load('/content/drive/MyDrive/Final Project/X_train_data.npy')\n",
        "X_test = np.load('/content/drive/MyDrive/Final Project/X_test_data.npy')\n",
        "y_train = pd.read_csv('/content/drive/MyDrive/Final Project/y_train.csv')\n",
        "y_train = y_train['target']\n",
        "y_train"
      ]
    },
    {
      "cell_type": "code",
      "execution_count": null,
      "metadata": {
        "colab": {
          "base_uri": "https://localhost:8080/",
          "height": 194
        },
        "id": "ZPzifZ3PlcRF",
        "outputId": "fa7614a2-ebf5-4683-f2d8-6bf2dfe50058"
      },
      "outputs": [
        {
          "data": {
            "image/png": "[encoded data removed]",
            "text/plain": [
              "<Figure size 2000x1000 with 1 Axes>"
            ]
          },
          "metadata": {},
          "output_type": "display_data"
        }
      ],
      "source": [
        "display_random_images(X_train, y_train)"
      ]
    },
    {
      "cell_type": "code",
      "execution_count": null,
      "metadata": {
        "colab": {
          "base_uri": "https://localhost:8080/"
        },
        "id": "NZhH8Ri4Nbss",
        "outputId": "33dd1c6b-eec2-40af-89b2-b2155a4d65ac"
      },
      "outputs": [
        {
          "data": {
            "text/plain": [
              "(16182, 45, 51, 3)"
            ]
          },
          "execution_count": 8,
          "metadata": {},
          "output_type": "execute_result"
        }
      ],
      "source": [
        "X_train.shape"
      ]
    },
    {
      "cell_type": "code",
      "execution_count": null,
      "metadata": {
        "colab": {
          "base_uri": "https://localhost:8080/"
        },
        "id": "0rSQR8W9VQsb",
        "outputId": "c2cb38a6-1071-4a98-f64a-0da6cfd03bc1"
      },
      "outputs": [
        {
          "data": {
            "text/plain": [
              "(16182,)"
            ]
          },
          "execution_count": 9,
          "metadata": {},
          "output_type": "execute_result"
        }
      ],
      "source": [
        "y_train.shape"
      ]
    },
    {
      "cell_type": "code",
      "execution_count": null,
      "metadata": {
        "colab": {
          "base_uri": "https://localhost:8080/"
        },
        "id": "eirIVb4iWWGm",
        "outputId": "9e6c0a01-42f5-4ddc-c0cd-3c82a1594ea0"
      },
      "outputs": [
        {
          "name": "stdout",
          "output_type": "stream",
          "text": [
            "0        0\n",
            "1        1\n",
            "2        0\n",
            "3        2\n",
            "4        2\n",
            "        ..\n",
            "16177    1\n",
            "16178    3\n",
            "16179    2\n",
            "16180    0\n",
            "16181    1\n",
            "Name: target, Length: 16182, dtype: int64\n"
          ]
        }
      ],
      "source": [
        "print(y_train)"
      ]
    },
    {
      "cell_type": "code",
      "execution_count": null,
      "metadata": {
        "id": "xdSXGqPeZw35"
      },
      "outputs": [],
      "source": [
        "red_channel, green_channel, blue_channel = separate_rgb_from_images(X_train)"
      ]
    },
    {
      "cell_type": "code",
      "execution_count": null,
      "metadata": {
        "colab": {
          "base_uri": "https://localhost:8080/",
          "height": 235
        },
        "id": "0ge32mFfcPnG",
        "outputId": "438c260b-0a1a-4668-f728-bb175f8d6275"
      },
      "outputs": [
        {
          "data": {
            "text/plain": [
              "<Figure size 640x480 with 0 Axes>"
            ]
          },
          "metadata": {},
          "output_type": "display_data"
        },
        {
          "data": {
            "image/png": "[encoded data removed]",
            "text/plain": [
              "<Figure size 1000x500 with 4 Axes>"
            ]
          },
          "metadata": {},
          "output_type": "display_data"
        }
      ],
      "source": [
        "plt.figure()\n",
        "fig, axs = plt.subplots(nrows=1, ncols=4, figsize=(10, 5))\n",
        "axs[0].imshow(red_channel[0])\n",
        "axs[1].imshow(green_channel[0])\n",
        "axs[2].imshow(blue_channel[0])\n",
        "axs[3].imshow(X_train[0])\n",
        "plt.show()"
      ]
    },
    {
      "cell_type": "markdown",
      "source": [],
      "metadata": {
        "id": "M5UsCOnoxeSl"
      }
    },
    {
      "cell_type": "code",
      "source": [
        "X_train_split, X_test_split, y_train_split, y_test_split = train_test_split(X_train, y_train, test_size=0.2, random_state=42)"
      ],
      "metadata": {
        "id": "TpAV3aIvxeCP"
      },
      "execution_count": 9,
      "outputs": []
    },
    {
      "cell_type": "markdown",
      "metadata": {
        "id": "bKNhuiTBJ_F_"
      },
      "source": []
    },
    {
      "cell_type": "code",
      "execution_count": 47,
      "metadata": {
        "id": "f_s5HqHzNbql"
      },
      "outputs": [],
      "source": [
        "X_train_exp = np.expand_dims(X_train_split, -1)\n",
        "#X_train_exp = np.expand_dims(X_train, -1)\n",
        "#X_train_exp = np.expand_dims(green_channel, -1)\n",
        "X_train_scaled = X_train_exp.astype('float32') / 255.0\n",
        "y_train_encoded = to_categorical(y_train_split, num_classes=4)"
      ]
    },
    {
      "cell_type": "markdown",
      "metadata": {
        "id": "91bwe_GHJ_tu"
      },
      "source": []
    },
    {
      "cell_type": "code",
      "execution_count": 57,
      "metadata": {
        "id": "nwIL0FMiNboY"
      },
      "outputs": [],
      "source": [
        "# Best model so far\n",
        "# 1 - 'gelu' = 'relu' = 'relu6' = 'silu'; 2 -'leaky_relu' = 'selu'; 3 - 'softplus' = 'softmax' = 'sigmoid'\n",
        "# 1 - all = green; 2 - blue; 3 - red\n",
        "#model = Sequential()\n",
        "#model.add(Conv2D(64, (3, 3), activation='gelu', input_shape=(45, 51, 3)))\n",
        "#model.add(MaxPooling2D((2, 2)))\n",
        "#model.add(Conv2D(128, (3, 3), activation='gelu'))\n",
        "#model.add(MaxPooling2D((2, 2)))\n",
        "#model.add(Flatten())\n",
        "#model.add(Dense(128, activation='gelu'))\n",
        "#model.add(Dropout(0.1))\n",
        "#model.add(Dense(4, activation='softmax'))\n",
        "\n",
        "model = Sequential()\n",
        "#model.add(Conv2D(32, (3, 3), activation='gelu', input_shape=(45, 51, 1)))\n",
        "model.add(Conv2D(32, (3, 3), activation='gelu', input_shape=(45, 51, 3)))\n",
        "model.add(MaxPooling2D((2, 2)))\n",
        "model.add(Conv2D(64, (3, 3), activation='gelu'))\n",
        "model.add(MaxPooling2D((2, 2)))\n",
        "model.add(Flatten())\n",
        "model.add(Dense(64, activation='gelu'))\n",
        "model.add(Dropout(0.1))\n",
        "model.add(Dense(4, activation='softmax'))"
      ]
    },
    {
      "cell_type": "markdown",
      "metadata": {
        "id": "8koDUsOJKAY9"
      },
      "source": []
    },
    {
      "cell_type": "code",
      "execution_count": 58,
      "metadata": {
        "colab": {
          "base_uri": "https://localhost:8080/"
        },
        "id": "m8numI2lNbj0",
        "outputId": "13f66d2c-0f39-498b-deb3-9fb4da427415"
      },
      "outputs": [
        {
          "output_type": "stream",
          "name": "stdout",
          "text": [
            "Model: \"sequential_12\"\n",
            "_________________________________________________________________\n",
            " Layer (type)                Output Shape              Param #   \n",
            "=================================================================\n",
            " conv2d_12 (Conv2D)          (None, 43, 49, 32)        896       \n",
            "                                                                 \n",
            " conv2d_13 (Conv2D)          (None, 41, 47, 64)        18496     \n",
            "                                                                 \n",
            " flatten_12 (Flatten)        (None, 123328)            0         \n",
            "                                                                 \n",
            " dense_48 (Dense)            (None, 64)                7893056   \n",
            "                                                                 \n",
            " dropout_40 (Dropout)        (None, 64)                0         \n",
            "                                                                 \n",
            " dense_49 (Dense)            (None, 4)                 260       \n",
            "                                                                 \n",
            "=================================================================\n",
            "Total params: 7912708 (30.18 MB)\n",
            "Trainable params: 7912708 (30.18 MB)\n",
            "Non-trainable params: 0 (0.00 Byte)\n",
            "_________________________________________________________________\n"
          ]
        }
      ],
      "source": [
        "loss = 'categorical_crossentropy' # 1 - 'categorical_crossentropy' = 'categorical_focal_crossentropy' = 'poisson'\n",
        "metrics = 'accuracy' # 1 - 'accuracy' = 'categorical_accuracy'\n",
        "learning_rate = 0.001 #1 - 0.001; 2 - 0.01; 3 - 0.0001; 4 - 0.1\n",
        "optimizer = AdamW(learning_rate = learning_rate) #1 - Adam; 2 - AdamW; 3 - Adagrad; 4 - SGD\n",
        "model.compile(loss=loss, optimizer=optimizer, metrics=[metrics])\n",
        "model.summary()"
      ]
    },
    {
      "cell_type": "markdown",
      "metadata": {
        "id": "sp6TssOeKA_7"
      },
      "source": []
    },
    {
      "cell_type": "code",
      "execution_count": null,
      "metadata": {
        "id": "g2W360l382QM"
      },
      "outputs": [],
      "source": [
        "history = model.fit(X_train_scaled, y_train_encoded, epochs=10, batch_size=32, validation_split = 0.2)"
      ]
    },
    {
      "cell_type": "code",
      "source": [
        "X_test_exp = np.expand_dims(X_test_split, -1)\n",
        "X_test_preprocessed = X_test_exp.astype('float32') / 255.0\n",
        "y_test_encoded = to_categorical(y_test_split, num_classes=4)"
      ],
      "metadata": {
        "id": "CTDlvCYSxwsc"
      },
      "execution_count": 55,
      "outputs": []
    },
    {
      "cell_type": "code",
      "source": [
        "score = model.evaluate(X_test_preprocessed, y_test_encoded, verbose=0)\n",
        "print('Test loss:', score[0])\n",
        "print(f'Test accuracy: {score[1]*100} %')"
      ],
      "metadata": {
        "colab": {
          "base_uri": "https://localhost:8080/"
        },
        "id": "Tndfr_01xwhe",
        "outputId": "a8711a69-036e-411f-9ed9-5678e5bd6604"
      },
      "execution_count": 56,
      "outputs": [
        {
          "output_type": "stream",
          "name": "stdout",
          "text": [
            "Test loss: 0.1196896955370903\n",
            "Test accuracy: 94.99536752700806 %\n"
          ]
        }
      ]
    },
    {
      "cell_type": "code",
      "execution_count": null,
      "metadata": {
        "id": "MCauTxuahS3d"
      },
      "outputs": [],
      "source": [
        "red_channel2, green_channel2, blue_channel2 = separate_rgb_from_images(X_test)"
      ]
    },
    {
      "cell_type": "markdown",
      "metadata": {
        "id": "z2wMHn6vKBjA"
      },
      "source": []
    },
    {
      "cell_type": "code",
      "execution_count": 38,
      "metadata": {
        "colab": {
          "base_uri": "https://localhost:8080/"
        },
        "id": "ZAaBaIkcY4R1",
        "outputId": "8958011a-aa01-400e-ee67-6a5c92d88476"
      },
      "outputs": [
        {
          "output_type": "stream",
          "name": "stdout",
          "text": [
            "150/150 [==============================] - 10s 63ms/step\n"
          ]
        }
      ],
      "source": [
        "y_test_pred = model.predict(X_test)\n",
        "y_test_labels = np.argmax(y_test_pred, axis=1)\n",
        "y_test = pd.DataFrame({'id': range(len(y_test_labels)), 'target': y_test_labels})\n",
        "y_test.to_csv('/content/drive/MyDrive/Final Project/y_test.csv', index=False)"
      ]
    },
    {
      "cell_type": "markdown",
      "source": [
        "# Hyper optimalization\n",
        "\n"
      ],
      "metadata": {
        "id": "3UNs9Bj-naSg"
      }
    }
  ],
  "metadata": {
    "colab": {
      "provenance": [],
      "gpuType": "T4",
      "authorship_tag": "ABX9TyPwH0XfwVpeyJ1W8N9/7v8i",
      "include_colab_link": true
    },
    "kernelspec": {
      "display_name": "Python 3",
      "name": "python3"
    },
    "language_info": {
      "name": "python"
    },
    "accelerator": "GPU"
  },
  "nbformat": 4,
  "nbformat_minor": 0
}