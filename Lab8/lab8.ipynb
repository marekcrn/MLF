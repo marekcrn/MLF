{
  "cells": [
    {
      "cell_type": "markdown",
      "metadata": {
        "id": "view-in-github",
        "colab_type": "text"
      },
      "source": [
        "<a href=\"https://colab.research.google.com/github/marekcrn/MLF/blob/main/Lab8/lab8.ipynb\" target=\"_parent\"><img src=\"https://colab.research.google.com/assets/colab-badge.svg\" alt=\"Open In Colab\"/></a>"
      ]
    },
    {
      "cell_type": "markdown",
      "id": "4e658167-a5e2-42c5-9fa6-01f7021fbca4",
      "metadata": {
        "id": "4e658167-a5e2-42c5-9fa6-01f7021fbca4"
      },
      "source": [
        "# MKA-MLF, Lab_08 - RNN"
      ]
    },
    {
      "cell_type": "markdown",
      "id": "F6KltZSGklJQ",
      "metadata": {
        "id": "F6KltZSGklJQ"
      },
      "source": [
        "Recurrent Neural Networks, are a class of artificial neural networks designed to recognize patterns in sequences of data, such as text, genomes, handwriting, or spoken words. Unlike traditional neural networks, which assume all inputs (and outputs) are independent of each other, RNNs are designed to recognize sequential or temporal patterns, making them especially suited for tasks like language modeling, speech recognition, and time series prediction."
      ]
    },
    {
      "cell_type": "markdown",
      "id": "zheceqk2lMcA",
      "metadata": {
        "id": "zheceqk2lMcA"
      },
      "source": [
        "## Exercise 1 - Time Series Forecasting"
      ]
    },
    {
      "cell_type": "markdown",
      "id": "TzFZTA1DrJbG",
      "metadata": {
        "id": "TzFZTA1DrJbG"
      },
      "source": [
        "### 1.0 Import Libraries"
      ]
    },
    {
      "cell_type": "code",
      "execution_count": null,
      "id": "Whyi3QznnAbG",
      "metadata": {
        "id": "Whyi3QznnAbG"
      },
      "outputs": [],
      "source": [
        "import numpy as np\n",
        "import matplotlib.pyplot as plt\n",
        "from keras.layers import Dense, Flatten, SimpleRNN\n",
        "from keras.models import Sequential\n",
        "from keras.optimizers import Adam"
      ]
    },
    {
      "cell_type": "markdown",
      "id": "UBqkZx0lrCAP",
      "metadata": {
        "id": "UBqkZx0lrCAP"
      },
      "source": [
        "### 1.1 Generating dataset"
      ]
    },
    {
      "cell_type": "code",
      "execution_count": null,
      "id": "Q_Q3ulmRlS6R",
      "metadata": {
        "id": "Q_Q3ulmRlS6R"
      },
      "outputs": [],
      "source": [
        "def generate_time_series(batch_size, n_steps):\n",
        "  freq1, freq2, offsets1, offsets2 = np.random.rand(4, batch_size, 1)\n",
        "  time = np.linspace(0,1,n_steps)\n",
        "\n",
        "  series = 0.5 * np.sin((time - offsets1) * (freq1*10 + 10))\n",
        "  series += 0.2 * np.sin((time - offsets2) * (freq2*20 + 20))\n",
        "  series += 0.1 * (np.random.rand(batch_size, n_steps)- 0.5)\n",
        "  return series[..., np.newaxis].astype(np.float32)"
      ]
    },
    {
      "cell_type": "code",
      "execution_count": null,
      "id": "p9kt6EQjkfvi",
      "metadata": {
        "id": "p9kt6EQjkfvi"
      },
      "outputs": [],
      "source": [
        "data_size = 10000\n",
        "n_steps = 50\n",
        "np.random.seed(0)\n",
        "\n",
        "series = generate_time_series(data_size, n_steps + 1)"
      ]
    },
    {
      "cell_type": "markdown",
      "id": "5neyWb-NrQ98",
      "metadata": {
        "id": "5neyWb-NrQ98"
      },
      "source": [
        "### 1.2 Train/Valid/Test split"
      ]
    },
    {
      "cell_type": "code",
      "execution_count": null,
      "id": "hPX75BPkmZqk",
      "metadata": {
        "id": "hPX75BPkmZqk"
      },
      "outputs": [],
      "source": [
        "X_train, y_train = series[:7000, :n_steps], series[:7000, -1]\n",
        "X_valid, y_valid = series[7000:9000, :n_steps], series[7000:9000, -1]\n",
        "X_test, y_test = series[9000:, :n_steps], series[9000:, -1]"
      ]
    },
    {
      "cell_type": "code",
      "execution_count": null,
      "id": "0DtVKkwzuoQZ",
      "metadata": {
        "id": "0DtVKkwzuoQZ"
      },
      "outputs": [],
      "source": [
        "no_training_epochs = 5"
      ]
    },
    {
      "cell_type": "markdown",
      "id": "js6Qzm--rXmD",
      "metadata": {
        "id": "js6Qzm--rXmD"
      },
      "source": [
        "### 1.3 Data examination"
      ]
    },
    {
      "cell_type": "code",
      "execution_count": null,
      "id": "GpXWorBknLSr",
      "metadata": {
        "colab": {
          "base_uri": "https://localhost:8080/",
          "height": 448
        },
        "id": "GpXWorBknLSr",
        "outputId": "143b4c6a-5bc1-491c-aa4b-fc9ca20e506e"
      },
      "outputs": [
        {
          "data": {
            "text/plain": [
              "[<matplotlib.lines.Line2D at 0x7d24a38df3d0>]"
            ]
          },
          "execution_count": 46,
          "metadata": {},
          "output_type": "execute_result"
        },
        {
          "data": {
            "image/png": "[encoded data removed]",
            "text/plain": [
              "<Figure size 640x480 with 1 Axes>"
            ]
          },
          "metadata": {},
          "output_type": "display_data"
        }
      ],
      "source": [
        "plt.figure()\n",
        "plt.plot(X_train[0])\n",
        "plt.plot(n_steps+1, y_train[0], 'rx')"
      ]
    },
    {
      "cell_type": "markdown",
      "id": "GvgPXxfBrahC",
      "metadata": {
        "id": "GvgPXxfBrahC"
      },
      "source": [
        "### 1.4 Simple Linear model"
      ]
    },
    {
      "cell_type": "code",
      "execution_count": null,
      "id": "g7izHKRso_an",
      "metadata": {
        "id": "g7izHKRso_an"
      },
      "outputs": [],
      "source": [
        "# Model definition\n",
        "model_linear = Sequential()\n",
        "model_linear.add(Flatten(input_shape=(50,1)))\n",
        "model_linear.add(Dense(1, activation = None))"
      ]
    },
    {
      "cell_type": "code",
      "execution_count": null,
      "id": "csJhWfvypZw7",
      "metadata": {
        "id": "csJhWfvypZw7"
      },
      "outputs": [],
      "source": [
        "# Model building\n",
        "\n",
        "learning_rate = 0.001\n",
        "optimizer = Adam(learning_rate)\n",
        "model_linear.compile(loss='mean_squared_error', optimizer=optimizer, metrics=['mean_squared_error'])"
      ]
    },
    {
      "cell_type": "code",
      "execution_count": null,
      "id": "D3iBcNJQpnMv",
      "metadata": {
        "colab": {
          "base_uri": "https://localhost:8080/"
        },
        "id": "D3iBcNJQpnMv",
        "outputId": "0a688807-4ce5-4fbc-bcef-eba8d28b65a8"
      },
      "outputs": [
        {
          "name": "stdout",
          "output_type": "stream",
          "text": [
            "Model: \"sequential\"\n",
            "_________________________________________________________________\n",
            " Layer (type)                Output Shape              Param #   \n",
            "=================================================================\n",
            " flatten (Flatten)           (None, 50)                0         \n",
            "                                                                 \n",
            " dense (Dense)               (None, 1)                 51        \n",
            "                                                                 \n",
            "=================================================================\n",
            "Total params: 51 (204.00 Byte)\n",
            "Trainable params: 51 (204.00 Byte)\n",
            "Non-trainable params: 0 (0.00 Byte)\n",
            "_________________________________________________________________\n"
          ]
        }
      ],
      "source": [
        "model_linear.summary()"
      ]
    },
    {
      "cell_type": "code",
      "execution_count": null,
      "id": "GGZMF0d9pmbv",
      "metadata": {
        "colab": {
          "base_uri": "https://localhost:8080/"
        },
        "id": "GGZMF0d9pmbv",
        "outputId": "2c47a7fd-406d-488e-b589-0f9edf82f59c"
      },
      "outputs": [
        {
          "name": "stdout",
          "output_type": "stream",
          "text": [
            "Epoch 1/5\n",
            "219/219 [==============================] - 3s 4ms/step - loss: 0.0980 - mean_squared_error: 0.0980 - val_loss: 0.0352 - val_mean_squared_error: 0.0352\n",
            "Epoch 2/5\n",
            "219/219 [==============================] - 1s 3ms/step - loss: 0.0199 - mean_squared_error: 0.0199 - val_loss: 0.0115 - val_mean_squared_error: 0.0115\n",
            "Epoch 3/5\n",
            "219/219 [==============================] - 1s 3ms/step - loss: 0.0095 - mean_squared_error: 0.0095 - val_loss: 0.0076 - val_mean_squared_error: 0.0076\n",
            "Epoch 4/5\n",
            "219/219 [==============================] - 1s 3ms/step - loss: 0.0073 - mean_squared_error: 0.0073 - val_loss: 0.0064 - val_mean_squared_error: 0.0064\n",
            "Epoch 5/5\n",
            "219/219 [==============================] - 1s 3ms/step - loss: 0.0064 - mean_squared_error: 0.0064 - val_loss: 0.0058 - val_mean_squared_error: 0.0058\n"
          ]
        }
      ],
      "source": [
        "# Model training\n",
        "\n",
        "history_linear = model_linear.fit(X_train, y_train, epochs=no_training_epochs, validation_data=[X_valid, y_valid])"
      ]
    },
    {
      "cell_type": "code",
      "execution_count": null,
      "id": "t9IahRnYqSi4",
      "metadata": {
        "id": "t9IahRnYqSi4"
      },
      "outputs": [],
      "source": [
        "def plot_function(history):\n",
        "  plt.figure()\n",
        "\n",
        "  plt.plot(history.history['loss'], label='loss')\n",
        "  plt.plot(history.history['val_loss'], label='validation_loss')\n",
        "  plt.legend()\n",
        "  plt.grid()\n",
        "  plt.xlim([0,no_training_epochs-1])\n",
        "  plt.xlabel('epochs')"
      ]
    },
    {
      "cell_type": "code",
      "execution_count": null,
      "id": "wMAEXxYiwKYo",
      "metadata": {
        "colab": {
          "base_uri": "https://localhost:8080/",
          "height": 449
        },
        "id": "wMAEXxYiwKYo",
        "outputId": "c16838aa-caf7-4598-f8eb-eaeb21000252"
      },
      "outputs": [
        {
          "data": {
            "image/png": "[encoded data removed]",
            "text/plain": [
              "<Figure size 640x480 with 1 Axes>"
            ]
          },
          "metadata": {},
          "output_type": "display_data"
        }
      ],
      "source": [
        "plot_function(history_linear)"
      ]
    },
    {
      "cell_type": "code",
      "execution_count": null,
      "id": "nKnuXHSSqV8n",
      "metadata": {
        "colab": {
          "base_uri": "https://localhost:8080/"
        },
        "id": "nKnuXHSSqV8n",
        "outputId": "47425796-c907-4bdd-bf94-e1871fb47cb3"
      },
      "outputs": [
        {
          "name": "stdout",
          "output_type": "stream",
          "text": [
            "Test loss: 0.005607303231954575\n",
            "Test MSE:  0.005607303231954575\n"
          ]
        }
      ],
      "source": [
        "score = model_linear.evaluate(X_test, y_test, verbose=0)\n",
        "print('Test loss:', score[0])\n",
        "print(f'Test MSE: ', score[1])"
      ]
    },
    {
      "cell_type": "markdown",
      "id": "odHZYob8rf4B",
      "metadata": {
        "id": "odHZYob8rf4B"
      },
      "source": [
        "### 1.5 Simple RNN Model"
      ]
    },
    {
      "cell_type": "code",
      "execution_count": null,
      "id": "jRSMY-2GrAI5",
      "metadata": {
        "id": "jRSMY-2GrAI5"
      },
      "outputs": [],
      "source": [
        "model_simple_rnn = Sequential()\n",
        "model_simple_rnn.add(SimpleRNN(1, input_shape=[50, 1]))"
      ]
    },
    {
      "cell_type": "code",
      "execution_count": null,
      "id": "a4O10LpTtPun",
      "metadata": {
        "id": "a4O10LpTtPun"
      },
      "outputs": [],
      "source": [
        "learning_rate_simple_rnn = 0.001\n",
        "optimizer_simple_rnn = Adam(learning_rate_simple_rnn)\n",
        "model_simple_rnn.compile(loss='mean_squared_error', optimizer=optimizer_simple_rnn, metrics=['mean_squared_error'])"
      ]
    },
    {
      "cell_type": "code",
      "execution_count": null,
      "id": "kvkCnmGDtaSo",
      "metadata": {
        "colab": {
          "base_uri": "https://localhost:8080/"
        },
        "id": "kvkCnmGDtaSo",
        "outputId": "72ba852e-21da-40e4-9e4b-0d50dd1b7432"
      },
      "outputs": [
        {
          "name": "stdout",
          "output_type": "stream",
          "text": [
            "Epoch 1/5\n",
            "219/219 [==============================] - 7s 29ms/step - loss: 0.1762 - mean_squared_error: 0.1762 - val_loss: 0.1170 - val_mean_squared_error: 0.1170\n",
            "Epoch 2/5\n",
            "219/219 [==============================] - 7s 33ms/step - loss: 0.1052 - mean_squared_error: 0.1052 - val_loss: 0.0888 - val_mean_squared_error: 0.0888\n",
            "Epoch 3/5\n",
            "219/219 [==============================] - 6s 28ms/step - loss: 0.0812 - mean_squared_error: 0.0812 - val_loss: 0.0695 - val_mean_squared_error: 0.0695\n",
            "Epoch 4/5\n",
            "219/219 [==============================] - 7s 32ms/step - loss: 0.0644 - mean_squared_error: 0.0644 - val_loss: 0.0567 - val_mean_squared_error: 0.0567\n",
            "Epoch 5/5\n",
            "219/219 [==============================] - 7s 30ms/step - loss: 0.0531 - mean_squared_error: 0.0531 - val_loss: 0.0477 - val_mean_squared_error: 0.0477\n"
          ]
        }
      ],
      "source": [
        "history_simple_rnn = model_simple_rnn.fit(X_train, y_train, epochs=no_training_epochs, validation_data=[X_valid, y_valid])"
      ]
    },
    {
      "cell_type": "code",
      "execution_count": null,
      "id": "a7b9ss0XJLUs",
      "metadata": {
        "colab": {
          "base_uri": "https://localhost:8080/",
          "height": 449
        },
        "id": "a7b9ss0XJLUs",
        "outputId": "b973403c-20d0-4d17-9f2e-0041f0fbe5f3"
      },
      "outputs": [
        {
          "data": {
            "image/png": "[encoded data removed]",
            "text/plain": [
              "<Figure size 640x480 with 1 Axes>"
            ]
          },
          "metadata": {},
          "output_type": "display_data"
        }
      ],
      "source": [
        "plot_function(history_simple_rnn)"
      ]
    },
    {
      "cell_type": "markdown",
      "id": "NxaXF_ZKuMSN",
      "metadata": {
        "id": "NxaXF_ZKuMSN"
      },
      "source": [
        "### 1.5 Deep RNN Model"
      ]
    },
    {
      "cell_type": "code",
      "execution_count": null,
      "id": "Vf6SRKUGtgQU",
      "metadata": {
        "id": "Vf6SRKUGtgQU"
      },
      "outputs": [],
      "source": [
        "model_deep_rnn = Sequential()\n",
        "model_deep_rnn.add(SimpleRNN(30, return_sequences = True, input_shape=[50, 1]))\n",
        "model_deep_rnn.add(SimpleRNN(30, return_sequences = True))\n",
        "model_deep_rnn.add(SimpleRNN(1, input_shape=[50, 1]))"
      ]
    },
    {
      "cell_type": "code",
      "execution_count": null,
      "id": "rykrG5VXuZ6s",
      "metadata": {
        "id": "rykrG5VXuZ6s"
      },
      "outputs": [],
      "source": [
        "learning_rate_deep_rnn = 0.001\n",
        "optimizer_deep_rnn = Adam(learning_rate_deep_rnn)\n",
        "model_deep_rnn.compile(loss='mean_squared_error', optimizer=optimizer_deep_rnn, metrics=['mean_squared_error'])"
      ]
    },
    {
      "cell_type": "code",
      "execution_count": null,
      "id": "TX-nr2jOuhIm",
      "metadata": {
        "colab": {
          "base_uri": "https://localhost:8080/"
        },
        "id": "TX-nr2jOuhIm",
        "outputId": "014332e9-8976-4f5a-b853-9b7aa2b5e72d"
      },
      "outputs": [
        {
          "name": "stdout",
          "output_type": "stream",
          "text": [
            "Epoch 1/5\n",
            "219/219 [==============================] - 29s 120ms/step - loss: 0.0133 - mean_squared_error: 0.0133 - val_loss: 0.0036 - val_mean_squared_error: 0.0036\n",
            "Epoch 2/5\n",
            "219/219 [==============================] - 26s 119ms/step - loss: 0.0036 - mean_squared_error: 0.0036 - val_loss: 0.0038 - val_mean_squared_error: 0.0038\n",
            "Epoch 3/5\n",
            "219/219 [==============================] - 26s 117ms/step - loss: 0.0033 - mean_squared_error: 0.0033 - val_loss: 0.0031 - val_mean_squared_error: 0.0031\n",
            "Epoch 4/5\n",
            "219/219 [==============================] - 26s 117ms/step - loss: 0.0031 - mean_squared_error: 0.0031 - val_loss: 0.0029 - val_mean_squared_error: 0.0029\n",
            "Epoch 5/5\n",
            "219/219 [==============================] - 25s 116ms/step - loss: 0.0031 - mean_squared_error: 0.0031 - val_loss: 0.0028 - val_mean_squared_error: 0.0028\n"
          ]
        }
      ],
      "source": [
        "history_deep_rnn = model_deep_rnn.fit(X_train, y_train, epochs=no_training_epochs, validation_data=[X_valid, y_valid])"
      ]
    },
    {
      "cell_type": "code",
      "execution_count": null,
      "id": "W2JOVZAlw2I6",
      "metadata": {
        "colab": {
          "base_uri": "https://localhost:8080/"
        },
        "id": "W2JOVZAlw2I6",
        "outputId": "8a0fd19a-6fae-4913-8211-f88353f119a6"
      },
      "outputs": [
        {
          "name": "stdout",
          "output_type": "stream",
          "text": [
            "Test loss: 0.00303454021923244\n",
            "Test MSE:  0.00303454021923244\n"
          ]
        }
      ],
      "source": [
        "score = model_deep_rnn.evaluate(X_test, y_test, verbose=0)\n",
        "print('Test loss:', score[0])\n",
        "print(f'Test MSE: ', score[1])"
      ]
    },
    {
      "cell_type": "code",
      "execution_count": null,
      "id": "h-RBk92nJSXt",
      "metadata": {
        "colab": {
          "base_uri": "https://localhost:8080/",
          "height": 449
        },
        "id": "h-RBk92nJSXt",
        "outputId": "3eca472d-c89e-44e7-e6e4-8a75fe9b37bd"
      },
      "outputs": [
        {
          "data": {
            "image/png": "[encoded data removed]",
            "text/plain": [
              "<Figure size 640x480 with 1 Axes>"
            ]
          },
          "metadata": {},
          "output_type": "display_data"
        }
      ],
      "source": [
        "plot_function(history_simple_rnn)"
      ]
    },
    {
      "cell_type": "markdown",
      "id": "YKleL3gVxWhk",
      "metadata": {
        "id": "YKleL3gVxWhk"
      },
      "source": [
        "## Exercise 2 - The movie review\n",
        "\n",
        "\n"
      ]
    },
    {
      "cell_type": "markdown",
      "id": "nGOfR9_RI27U",
      "metadata": {
        "id": "nGOfR9_RI27U"
      },
      "source": [
        "Based on the written rewiev, classify if the movie if good or bad"
      ]
    },
    {
      "cell_type": "markdown",
      "id": "DeJiO_Vxxz7P",
      "metadata": {
        "id": "DeJiO_Vxxz7P"
      },
      "source": [
        "### 2.0 - Import libraries"
      ]
    },
    {
      "cell_type": "code",
      "execution_count": 171,
      "id": "JyIAVnPUlfak",
      "metadata": {
        "id": "JyIAVnPUlfak"
      },
      "outputs": [],
      "source": [
        "from keras.preprocessing.text import Tokenizer\n",
        "import keras\n",
        "import numpy as np\n",
        "from keras.models import Sequential\n",
        "from keras.layers import LSTM, Dense, Embedding, SimpleRNN, GRU\n",
        "from keras.preprocessing.sequence import pad_sequences\n",
        "import matplotlib.pyplot as plt\n",
        "from keras.optimizers import Adam"
      ]
    },
    {
      "cell_type": "markdown",
      "id": "_ebMTkFqx65l",
      "metadata": {
        "id": "_ebMTkFqx65l"
      },
      "source": [
        "### 2.1 - Load dataset"
      ]
    },
    {
      "cell_type": "code",
      "execution_count": 172,
      "id": "zHTtEPlsq85X",
      "metadata": {
        "id": "zHTtEPlsq85X"
      },
      "outputs": [],
      "source": [
        "(X_train, y_train), (X_test, y_test) = keras.datasets.imdb.load_data()"
      ]
    },
    {
      "cell_type": "markdown",
      "id": "K6UogxMDx_Y-",
      "metadata": {
        "id": "K6UogxMDx_Y-"
      },
      "source": [
        "### 2.2 - Dataset examination"
      ]
    },
    {
      "cell_type": "code",
      "execution_count": 173,
      "id": "9jLwcwPxyTD5",
      "metadata": {
        "id": "9jLwcwPxyTD5"
      },
      "outputs": [],
      "source": [
        "word_index = keras.datasets.imdb.get_word_index()\n",
        "id_to_word = {id_ + 3:word for word, id_ in word_index.items()}\n",
        "for id_, token in enumerate((\"<pad>\", \"<sos>\", \"<unk>\")):\n",
        "  id_to_word[id_] = token"
      ]
    },
    {
      "cell_type": "code",
      "execution_count": 174,
      "id": "c8yXphQIyXZB",
      "metadata": {
        "id": "c8yXphQIyXZB"
      },
      "outputs": [],
      "source": [
        "single_sequence = \" \".join([id_to_word[id_] for id_ in X_train[0][:]])"
      ]
    },
    {
      "cell_type": "code",
      "execution_count": 175,
      "id": "h_1cpznZC70B",
      "metadata": {
        "colab": {
          "base_uri": "https://localhost:8080/",
          "height": 110
        },
        "id": "h_1cpznZC70B",
        "outputId": "e9bb5d26-21d7-4ea7-f30e-5be26fcc6967"
      },
      "outputs": [
        {
          "output_type": "execute_result",
          "data": {
            "text/plain": [
              "\"<sos> this film was just brilliant casting location scenery story direction everyone's really suited the part they played and you could just imagine being there robert redford's is an amazing actor and now the same being director norman's father came from the same scottish island as myself so i loved the fact there was a real connection with this film the witty remarks throughout the film were great it was just brilliant so much that i bought the film as soon as it was released for retail and would recommend it to everyone to watch and the fly fishing was amazing really cried at the end it was so sad and you know what they say if you cry at a film it must have been good and this definitely was also congratulations to the two little boy's that played the part's of norman and paul they were just brilliant children are often left out of the praising list i think because the stars that play them all grown up are such a big profile for the whole film but these children are amazing and should be praised for what they have done don't you think the whole story was so lovely because it was true and was someone's life after all that was shared with us all\""
            ],
            "application/vnd.google.colaboratory.intrinsic+json": {
              "type": "string"
            }
          },
          "metadata": {},
          "execution_count": 175
        }
      ],
      "source": [
        "single_sequence"
      ]
    },
    {
      "cell_type": "code",
      "execution_count": 176,
      "id": "4vRZPUGr3w_m",
      "metadata": {
        "id": "4vRZPUGr3w_m"
      },
      "outputs": [],
      "source": [
        "max_length = 200  # Define the maximum length of a review\n",
        "X_train = keras.preprocessing.sequence.pad_sequences(X_train, maxlen=max_length, padding='post', truncating='post', value=0)\n",
        "X_test = keras.preprocessing.sequence.pad_sequences(X_test, maxlen=max_length, padding='post', truncating='post', value=0)"
      ]
    },
    {
      "cell_type": "code",
      "execution_count": 197,
      "id": "NhzI5klo1pYp",
      "metadata": {
        "id": "NhzI5klo1pYp"
      },
      "outputs": [],
      "source": [
        "embed_size = 128\n",
        "vocabulary_size = 5000\n",
        "\n",
        "model = keras.models.Sequential([\n",
        "    keras.layers.Embedding(vocabulary_size, embed_size, input_shape=[None]),\n",
        "    keras.layers.GRU(128, return_sequences=True),\n",
        "    keras.layers.GRU(128),\n",
        "    keras.layers.Dense(1, activation='sigmoid')\n",
        "    ])\n"
      ]
    },
    {
      "cell_type": "code",
      "execution_count": 198,
      "id": "lCz9ZWgNbhaZ",
      "metadata": {
        "id": "lCz9ZWgNbhaZ"
      },
      "outputs": [],
      "source": [
        "optimizer = Adam(learning_rate = 0.001)"
      ]
    },
    {
      "cell_type": "code",
      "execution_count": 199,
      "id": "7fdxNF0h28jf",
      "metadata": {
        "id": "7fdxNF0h28jf"
      },
      "outputs": [],
      "source": [
        "model.compile(loss=\"binary_crossentropy\", optimizer=optimizer, metrics=[\"accuracy\"])"
      ]
    },
    {
      "cell_type": "code",
      "execution_count": 200,
      "id": "lIVFi9qT3gzy",
      "metadata": {
        "colab": {
          "base_uri": "https://localhost:8080/"
        },
        "id": "lIVFi9qT3gzy",
        "outputId": "e07dd5f6-b7bf-4468-9d89-eade2ec0a87e"
      },
      "outputs": [
        {
          "output_type": "stream",
          "name": "stdout",
          "text": [
            "Epoch 1/5\n",
            "625/625 [==============================] - 46s 68ms/step - loss: 0.6896 - accuracy: 0.5250 - val_loss: 0.6702 - val_accuracy: 0.5742\n",
            "Epoch 2/5\n",
            "625/625 [==============================] - 19s 30ms/step - loss: 0.6685 - accuracy: 0.5821 - val_loss: 0.4994 - val_accuracy: 0.7600\n",
            "Epoch 3/5\n",
            "625/625 [==============================] - 15s 24ms/step - loss: 0.3529 - accuracy: 0.8482 - val_loss: 0.3338 - val_accuracy: 0.8588\n",
            "Epoch 4/5\n",
            "625/625 [==============================] - 14s 22ms/step - loss: 0.2273 - accuracy: 0.9107 - val_loss: 0.3329 - val_accuracy: 0.8604\n",
            "Epoch 5/5\n",
            "625/625 [==============================] - 13s 21ms/step - loss: 0.1654 - accuracy: 0.9403 - val_loss: 0.3657 - val_accuracy: 0.8576\n"
          ]
        }
      ],
      "source": [
        "history = model.fit(X_train, y_train, epochs=5, validation_split=0.2)"
      ]
    },
    {
      "cell_type": "code",
      "execution_count": 201,
      "id": "69zrgeNHIau6",
      "metadata": {
        "colab": {
          "base_uri": "https://localhost:8080/"
        },
        "id": "69zrgeNHIau6",
        "outputId": "c72eac1d-fd71-47a8-a9c9-d125841e2090"
      },
      "outputs": [
        {
          "output_type": "stream",
          "name": "stdout",
          "text": [
            "Test loss: 0.38055622577667236\n",
            "Test accuracy:  84.94399785995483 %\n"
          ]
        }
      ],
      "source": [
        "score = model.evaluate(X_test, y_test, verbose=0)\n",
        "print('Test loss:', score[0])\n",
        "print(f'Test accuracy: ', score[1]*100, \"%\")"
      ]
    },
    {
      "cell_type": "markdown",
      "id": "ZtA1O3R1RArG",
      "metadata": {
        "id": "ZtA1O3R1RArG"
      },
      "source": [
        "TASK: Modify structure, change the core of the network from RNN to LTSM and GRU. Compare the results"
      ]
    }
  ],
  "metadata": {
    "accelerator": "GPU",
    "colab": {
      "gpuType": "T4",
      "provenance": [],
      "include_colab_link": true
    },
    "kernelspec": {
      "display_name": "Python 3",
      "name": "python3"
    },
    "language_info": {
      "codemirror_mode": {
        "name": "ipython",
        "version": 3
      },
      "file_extension": ".py",
      "mimetype": "text/x-python",
      "name": "python",
      "nbconvert_exporter": "python",
      "pygments_lexer": "ipython3",
      "version": "3.10.12"
    }
  },
  "nbformat": 4,
  "nbformat_minor": 5
}