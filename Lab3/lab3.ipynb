{
  "nbformat": 4,
  "nbformat_minor": 0,
  "metadata": {
    "colab": {
      "provenance": [],
      "toc_visible": true,
      "authorship_tag": "ABX9TyPUISoWypO6ZI2CYjsOC4fx",
      "include_colab_link": true
    },
    "kernelspec": {
      "name": "python3",
      "display_name": "Python 3"
    },
    "language_info": {
      "name": "python"
    }
  },
  "cells": [
    {
      "cell_type": "markdown",
      "metadata": {
        "id": "view-in-github",
        "colab_type": "text"
      },
      "source": [
        "<a href=\"https://colab.research.google.com/github/marekcrn/MLF/blob/main/Lab3/lab3.ipynb\" target=\"_parent\"><img src=\"https://colab.research.google.com/assets/colab-badge.svg\" alt=\"Open In Colab\"/></a>"
      ]
    },
    {
      "cell_type": "code",
      "execution_count": 39,
      "metadata": {
        "colab": {
          "base_uri": "https://localhost:8080/"
        },
        "id": "vues1CJaKijF",
        "outputId": "1ec3f915-c169-4598-dff1-0881d98b1b27"
      },
      "outputs": [
        {
          "output_type": "stream",
          "name": "stdout",
          "text": [
            "['sepal length (cm)', 'sepal width (cm)', 'petal length (cm)', 'petal width (cm)']\n",
            "[[5.1 3.5 1.4 0.2]\n",
            " [4.9 3.  1.4 0.2]\n",
            " [4.7 3.2 1.3 0.2]\n",
            " [4.6 3.1 1.5 0.2]\n",
            " [5.  3.6 1.4 0.2]]\n",
            "[0 0 0 0 0 0 0 0 0 0 0 0 0 0 0 0 0 0 0 0 0 0 0 0 0 0 0 0 0 0 0 0 0 0 0 0 0\n",
            " 0 0 0 0 0 0 0 0 0 0 0 0 0 1 1 1 1 1 1 1 1 1 1 1 1 1 1 1 1 1 1 1 1 1 1 1 1\n",
            " 1 1 1 1 1 1 1 1 1 1 1 1 1 1 1 1 1 1 1 1 1 1 1 1 1 1 2 2 2 2 2 2 2 2 2 2 2\n",
            " 2 2 2 2 2 2 2 2 2 2 2 2 2 2 2 2 2 2 2 2 2 2 2 2 2 2 2 2 2 2 2 2 2 2 2 2 2\n",
            " 2 2]\n"
          ]
        }
      ],
      "source": [
        "# SVM for classification\n",
        "\n",
        "from sklearn.datasets import load_iris\n",
        "iris=load_iris()\n",
        "iris.feature_names\n",
        "print(iris.feature_names)\n",
        "print(iris.data[0:5,:])\n",
        "print(iris.target[:])\n",
        "#print(iris.data)"
      ]
    },
    {
      "cell_type": "code",
      "source": [
        "from sklearn.model_selection import train_test_split\n",
        "X=iris.data[iris.target!=2,0:2] # chosing first 2 columns and first 2 classes\n",
        "y=iris.target[iris.target!=2]   # chosing first 2 classes\n",
        "X_train, X_test, y_train, y_test = train_test_split(X,y,test_size=0.2)\n",
        "print(X_train.shape) # for training\n",
        "print(X_test.shape)  # for testing\n",
        "print(y_test)        # classes    iris.target!=2,"
      ],
      "metadata": {
        "colab": {
          "base_uri": "https://localhost:8080/"
        },
        "id": "qEP7O4qqK8iI",
        "outputId": "b31a3f3f-89b3-4109-b6d6-86351557c580"
      },
      "execution_count": 54,
      "outputs": [
        {
          "output_type": "stream",
          "name": "stdout",
          "text": [
            "(80, 2)\n",
            "(20, 2)\n",
            "[1 1 1 0 1 0 0 0 1 1 0 0 1 1 0 1 1 0 0 1]\n"
          ]
        }
      ]
    },
    {
      "cell_type": "code",
      "source": [
        "from sklearn.svm import SVC\n",
        "SVMmodel=SVC(kernel='linear') # separating line\n",
        "SVMmodel.fit(X_train,y_train) # training phase (fit)\n",
        "SVMmodel.get_params()\n",
        "#SVMmodel.score(X_test,y_test) # testing phase (score)"
      ],
      "metadata": {
        "colab": {
          "base_uri": "https://localhost:8080/"
        },
        "id": "t1hs5xB4LM2H",
        "outputId": "ef0e0264-027e-4da4-f9cc-2f85b8c0d2ba"
      },
      "execution_count": 64,
      "outputs": [
        {
          "output_type": "execute_result",
          "data": {
            "text/plain": [
              "{'C': 1.0,\n",
              " 'break_ties': False,\n",
              " 'cache_size': 200,\n",
              " 'class_weight': None,\n",
              " 'coef0': 0.0,\n",
              " 'decision_function_shape': 'ovr',\n",
              " 'degree': 3,\n",
              " 'gamma': 'scale',\n",
              " 'kernel': 'linear',\n",
              " 'max_iter': -1,\n",
              " 'probability': False,\n",
              " 'random_state': None,\n",
              " 'shrinking': True,\n",
              " 'tol': 0.001,\n",
              " 'verbose': False}"
            ]
          },
          "metadata": {},
          "execution_count": 64
        }
      ]
    },
    {
      "cell_type": "code",
      "source": [
        "import matplotlib.pyplot as plt\n",
        "import numpy as np\n",
        "\n",
        "plot = plt.figure()\n",
        "plot = plt.scatter(X[y==0,0],X[y==0,1],color='green', marker='x') # Plotting data for class 0\n",
        "plot = plt.scatter(X[y==1,0],X[y==1,1],color='blue', marker='o')  # Plotting data for class 1\n",
        "# plot = plt.scatter(X[y==2,0],X[y==2,1],color='red', marker='+') # Plotting data for class 2\n",
        "\n",
        "# Line: w*x+b=0 => [w0 w1]*[x0 x1]+b=0 => w0x0+w1x1+b=0\n",
        "supvectors=SVMmodel.support_vectors_\n",
        "\n",
        "# Plot the support vectors here\n",
        "plot = plt.scatter(supvectors[:,0:1],supvectors[:,1:2],color='red', marker='.')\n",
        "\n",
        "# Separating line coefficients:\n",
        "W=SVMmodel.coef_\n",
        "b=SVMmodel.intercept_\n",
        "print(W)\n",
        "print(b)\n",
        "\n",
        "xgr = np.linspace(min(X[:,0]), max(X[:,0]), num=50)\n",
        "ygr = -W[:,0]/W[:,1]*xgr-b/W[:,1]\n",
        "\n",
        "plot = plt.scatter(xgr, ygr, s=2,color='black')\n",
        "plt.show(plot)"
      ],
      "metadata": {
        "colab": {
          "base_uri": "https://localhost:8080/",
          "height": 465
        },
        "id": "EykVM1dDLh46",
        "outputId": "a8d77cbc-96ab-4ef5-b8b3-0eddee660d02"
      },
      "execution_count": 76,
      "outputs": [
        {
          "output_type": "stream",
          "name": "stdout",
          "text": [
            "[[ 2.22222054 -2.22221527]]\n",
            "[-5.00001052]\n"
          ]
        },
        {
          "output_type": "display_data",
          "data": {
            "text/plain": [
              "<Figure size 640x480 with 1 Axes>"
            ],
            "image/png": "[encoded data removed]"
          },
          "metadata": {}
        }
      ]
    }
  ]
}